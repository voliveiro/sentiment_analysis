{
 "cells": [
  {
   "cell_type": "markdown",
   "metadata": {},
   "source": [
    "## Sentiment Analysis on Facebook Posts from Late 2016 - Present\n",
    "\n",
    "I downloaded and performed a simple sentiment anaysis on my Facebook posts from this period.  I provide explanations of the step I took. For more details, read the code comments (green italicised text preceded by the \"#\" sign). "
   ]
  },
  {
   "cell_type": "markdown",
   "metadata": {},
   "source": [
    "### Importing libraries and data "
   ]
  },
  {
   "cell_type": "code",
   "execution_count": 1,
   "metadata": {},
   "outputs": [],
   "source": [
    "\n",
    "import json \n",
    "import pandas as pd\n",
    "from pandas.io.json import json_normalize\n",
    "from datetime import datetime\n",
    "from textblob import TextBlob, Word\n",
    "\n",
    "#reading from downloaded Facebook posts\n",
    "\n",
    "with open (\"fbposts16_19.json\", \"r\") as data: \n",
    "    json_data=data.read()\n",
    "\n",
    "    #I turn the json data into a list for easy manipulation \n",
    "    json_data_list=json.loads(json_data)\n"
   ]
  },
  {
   "cell_type": "markdown",
   "metadata": {},
   "source": [
    "### Studying the data structure of an item in the list\n",
    "\n",
    "Note: I found that, depending on the type of post, each dictionary in the list is structured differently. Notably, I ran into problems when I tried to extract information in json_data_list[i][\"data\"'], because \"data\" was a non-existent key value for some items. "
   ]
  },
  {
   "cell_type": "code",
   "execution_count": 2,
   "metadata": {},
   "outputs": [
    {
     "name": "stdout",
     "output_type": "stream",
     "text": [
      "{'timestamp': 1573565899, 'attachments': [{'data': [{'external_context': {'url': 'https://uk.reuters.com/article/us-britian-eu-floods-aid-idUKKBN1761EQ'}}]}], 'data': [{'post': '\"In total, Britain has been allocated more than 220 million euros in EU solidarity aid [the fund is used to help member states that have suffered natural disasters] , making the country the third largest beneficiary after Italy and Germany.\"'}, {'update_timestamp': 1573565899}], 'title': 'Vernie Oliveiro'}\n",
      ",,,,,,,\n",
      "[{'post': '\"In total, Britain has been allocated more than 220 million euros in EU solidarity aid [the fund is used to help member states that have suffered natural disasters] , making the country the third largest beneficiary after Italy and Germany.\"'}, {'update_timestamp': 1573565899}]\n",
      "-----\n",
      "{'post': '\"In total, Britain has been allocated more than 220 million euros in EU solidarity aid [the fund is used to help member states that have suffered natural disasters] , making the country the third largest beneficiary after Italy and Germany.\"'}\n",
      "......\n",
      "\"In total, Britain has been allocated more than 220 million euros in EU solidarity aid [the fund is used to help member states that have suffered natural disasters] , making the country the third largest beneficiary after Italy and Germany.\"\n"
     ]
    }
   ],
   "source": [
    "print(json_data_list[0])\n",
    "print(\",,,,,,,\")\n",
    "print(json_data_list[0][\"data\"])\n",
    "print(\"-----\")\n",
    "print(json_data_list[0][\"data\"][0])\n",
    "print(\"......\")\n",
    "print(json_data_list[0][\"data\"][0][\"post\"])"
   ]
  },
  {
   "cell_type": "code",
   "execution_count": 3,
   "metadata": {},
   "outputs": [
    {
     "data": {
      "text/plain": [
       "2465"
      ]
     },
     "execution_count": 3,
     "metadata": {},
     "output_type": "execute_result"
    }
   ],
   "source": [
    "len(json_data_list)"
   ]
  },
  {
   "cell_type": "markdown",
   "metadata": {},
   "source": [
    "This extracts the relevant list items into a new list, \"a\". "
   ]
  },
  {
   "cell_type": "code",
   "execution_count": 4,
   "metadata": {},
   "outputs": [
    {
     "name": "stdout",
     "output_type": "stream",
     "text": [
      "{'timestamp': 1573565899, 'attachments': [{'data': [{'external_context': {'url': 'https://uk.reuters.com/article/us-britian-eu-floods-aid-idUKKBN1761EQ'}}]}], 'data': [{'post': '\"In total, Britain has been allocated more than 220 million euros in EU solidarity aid [the fund is used to help member states that have suffered natural disasters] , making the country the third largest beneficiary after Italy and Germany.\"'}, {'update_timestamp': 1573565899}], 'title': 'Vernie Oliveiro'}\n",
      "2455\n"
     ]
    }
   ],
   "source": [
    "a=[]\n",
    "\n",
    "for item in json_data_list:\n",
    "    if \"data\" in item:\n",
    "        a.append(item)\n",
    "        \n",
    "print(a[0])\n",
    "print(len(a))"
   ]
  },
  {
   "cell_type": "markdown",
   "metadata": {},
   "source": [
    "### Adding additional data to the list \n",
    "\n",
    "I use TextBlob to perform sentiment analysis for polarity and subjectivity. I also convert the timestamp to readable date time. "
   ]
  },
  {
   "cell_type": "code",
   "execution_count": 5,
   "metadata": {},
   "outputs": [
    {
     "name": "stdout",
     "output_type": "stream",
     "text": [
      "{'timestamp': 1573565899, 'attachments': [{'data': [{'external_context': {'url': 'https://uk.reuters.com/article/us-britian-eu-floods-aid-idUKKBN1761EQ'}}]}], 'data': [{'post': '\"In total, Britain has been allocated more than 220 million euros in EU solidarity aid [the fund is used to help member states that have suffered natural disasters] , making the country the third largest beneficiary after Italy and Germany.\"'}, {'update_timestamp': 1573565899}], 'title': 'Vernie Oliveiro', 'mood': 0.15, 'subj': 0.4125, 'date': '2019-11-12 13:38:19'}\n"
     ]
    }
   ],
   "source": [
    "for i in range(len(a)): \n",
    "    #performing sentiment analysis for polarity \n",
    "    result1=TextBlob(str(a[i][\"data\"])).sentiment.polarity\n",
    "    #performing sentiment analysis for subjectivity \n",
    "    result2=TextBlob(str(a[i][\"data\"])).sentiment.subjectivity\n",
    "    #converting timestamp to datetime \n",
    "    date=datetime.utcfromtimestamp(a[i][\"timestamp\"]).strftime('%Y-%m-%d %H:%M:%S')\n",
    "    #writing new information into the json file\n",
    "    with open(\"your_posts_1.json\", \"a\") as new: \n",
    "        a[i][\"mood\"]=result1\n",
    "        a[i][\"subj\"]=result2\n",
    "        a[i][\"date\"]=date\n",
    "        new.write(str(result1))\n",
    "        new.write(str(result2))\n",
    "\n",
    "#visualing what each item looks like\n",
    "print(a[0])\n",
    "    "
   ]
  },
  {
   "cell_type": "markdown",
   "metadata": {},
   "source": [
    "### I turn the list into a Pandas dataframe to enable data analysis"
   ]
  },
  {
   "cell_type": "code",
   "execution_count": 6,
   "metadata": {},
   "outputs": [
    {
     "data": {
      "text/html": [
       "<div>\n",
       "<style scoped>\n",
       "    .dataframe tbody tr th:only-of-type {\n",
       "        vertical-align: middle;\n",
       "    }\n",
       "\n",
       "    .dataframe tbody tr th {\n",
       "        vertical-align: top;\n",
       "    }\n",
       "\n",
       "    .dataframe thead th {\n",
       "        text-align: right;\n",
       "    }\n",
       "</style>\n",
       "<table border=\"1\" class=\"dataframe\">\n",
       "  <thead>\n",
       "    <tr style=\"text-align: right;\">\n",
       "      <th></th>\n",
       "      <th>timestamp</th>\n",
       "      <th>attachments</th>\n",
       "      <th>data</th>\n",
       "      <th>title</th>\n",
       "      <th>mood</th>\n",
       "      <th>subj</th>\n",
       "      <th>date</th>\n",
       "      <th>tags</th>\n",
       "    </tr>\n",
       "  </thead>\n",
       "  <tbody>\n",
       "    <tr>\n",
       "      <td>0</td>\n",
       "      <td>1573565899</td>\n",
       "      <td>[{'data': [{'external_context': {'url': 'https...</td>\n",
       "      <td>[{'post': '\"In total, Britain has been allocat...</td>\n",
       "      <td>Vernie Oliveiro</td>\n",
       "      <td>0.150000</td>\n",
       "      <td>0.412500</td>\n",
       "      <td>2019-11-12 13:38:19</td>\n",
       "      <td>NaN</td>\n",
       "    </tr>\n",
       "    <tr>\n",
       "      <td>1</td>\n",
       "      <td>1573405924</td>\n",
       "      <td>[{'data': [{'media': {'uri': 'photos_and_video...</td>\n",
       "      <td>[{'post': 'Eyes on the ball!! Looking forward ...</td>\n",
       "      <td>NaN</td>\n",
       "      <td>0.000000</td>\n",
       "      <td>0.000000</td>\n",
       "      <td>2019-11-10 17:12:04</td>\n",
       "      <td>NaN</td>\n",
       "    </tr>\n",
       "    <tr>\n",
       "      <td>2</td>\n",
       "      <td>1573266620</td>\n",
       "      <td>[{'data': [{'external_context': {'url': 'https...</td>\n",
       "      <td>[{'post': 'Arguably a result of what frequentl...</td>\n",
       "      <td>Vernie Oliveiro</td>\n",
       "      <td>0.120000</td>\n",
       "      <td>0.206667</td>\n",
       "      <td>2019-11-09 02:30:20</td>\n",
       "      <td>NaN</td>\n",
       "    </tr>\n",
       "    <tr>\n",
       "      <td>3</td>\n",
       "      <td>1573239861</td>\n",
       "      <td>[{'data': [{'external_context': {'url': 'https...</td>\n",
       "      <td>[{'post': 'Vitamin E acetate \"used as an addit...</td>\n",
       "      <td>Vernie Oliveiro</td>\n",
       "      <td>0.000000</td>\n",
       "      <td>0.100000</td>\n",
       "      <td>2019-11-08 19:04:21</td>\n",
       "      <td>NaN</td>\n",
       "    </tr>\n",
       "    <tr>\n",
       "      <td>4</td>\n",
       "      <td>1573141187</td>\n",
       "      <td>[]</td>\n",
       "      <td>[{'post': 'I feel like this dad is teaching hi...</td>\n",
       "      <td>Vernie Oliveiro</td>\n",
       "      <td>0.023611</td>\n",
       "      <td>0.227431</td>\n",
       "      <td>2019-11-07 15:39:47</td>\n",
       "      <td>NaN</td>\n",
       "    </tr>\n",
       "  </tbody>\n",
       "</table>\n",
       "</div>"
      ],
      "text/plain": [
       "    timestamp                                        attachments  \\\n",
       "0  1573565899  [{'data': [{'external_context': {'url': 'https...   \n",
       "1  1573405924  [{'data': [{'media': {'uri': 'photos_and_video...   \n",
       "2  1573266620  [{'data': [{'external_context': {'url': 'https...   \n",
       "3  1573239861  [{'data': [{'external_context': {'url': 'https...   \n",
       "4  1573141187                                                 []   \n",
       "\n",
       "                                                data            title  \\\n",
       "0  [{'post': '\"In total, Britain has been allocat...  Vernie Oliveiro   \n",
       "1  [{'post': 'Eyes on the ball!! Looking forward ...              NaN   \n",
       "2  [{'post': 'Arguably a result of what frequentl...  Vernie Oliveiro   \n",
       "3  [{'post': 'Vitamin E acetate \"used as an addit...  Vernie Oliveiro   \n",
       "4  [{'post': 'I feel like this dad is teaching hi...  Vernie Oliveiro   \n",
       "\n",
       "       mood      subj                 date tags  \n",
       "0  0.150000  0.412500  2019-11-12 13:38:19  NaN  \n",
       "1  0.000000  0.000000  2019-11-10 17:12:04  NaN  \n",
       "2  0.120000  0.206667  2019-11-09 02:30:20  NaN  \n",
       "3  0.000000  0.100000  2019-11-08 19:04:21  NaN  \n",
       "4  0.023611  0.227431  2019-11-07 15:39:47  NaN  "
      ]
     },
     "execution_count": 6,
     "metadata": {},
     "output_type": "execute_result"
    }
   ],
   "source": [
    "newfbposts = pd.DataFrame.from_dict(a, orient=\"columns\")\n",
    "\n",
    "#visualising the dataframe\n",
    "newfbposts.head()"
   ]
  },
  {
   "cell_type": "code",
   "execution_count": 7,
   "metadata": {},
   "outputs": [
    {
     "data": {
      "text/plain": [
       "Index(['timestamp', 'attachments', 'data', 'title', 'mood', 'subj', 'date',\n",
       "       'tags'],\n",
       "      dtype='object')"
      ]
     },
     "execution_count": 7,
     "metadata": {},
     "output_type": "execute_result"
    }
   ],
   "source": [
    "newfbposts.columns"
   ]
  },
  {
   "cell_type": "markdown",
   "metadata": {},
   "source": [
    "I remove columns that are unnecessary for this analysis"
   ]
  },
  {
   "cell_type": "code",
   "execution_count": 8,
   "metadata": {},
   "outputs": [
    {
     "data": {
      "text/plain": [
       "Index(['data', 'mood', 'subj', 'date'], dtype='object')"
      ]
     },
     "execution_count": 8,
     "metadata": {},
     "output_type": "execute_result"
    }
   ],
   "source": [
    "newfbposts.drop(\"timestamp\", axis=1, inplace=True)\n",
    "newfbposts.drop(\"attachments\", axis=1, inplace=True)\n",
    "newfbposts.drop(\"title\", axis=1, inplace=True)\n",
    "newfbposts.drop(\"tags\", axis=1, inplace=True)\n",
    "\n",
    "newfbposts.columns"
   ]
  },
  {
   "cell_type": "code",
   "execution_count": 9,
   "metadata": {},
   "outputs": [
    {
     "data": {
      "text/html": [
       "<div>\n",
       "<style scoped>\n",
       "    .dataframe tbody tr th:only-of-type {\n",
       "        vertical-align: middle;\n",
       "    }\n",
       "\n",
       "    .dataframe tbody tr th {\n",
       "        vertical-align: top;\n",
       "    }\n",
       "\n",
       "    .dataframe thead th {\n",
       "        text-align: right;\n",
       "    }\n",
       "</style>\n",
       "<table border=\"1\" class=\"dataframe\">\n",
       "  <thead>\n",
       "    <tr style=\"text-align: right;\">\n",
       "      <th></th>\n",
       "      <th>data</th>\n",
       "      <th>mood</th>\n",
       "      <th>subj</th>\n",
       "      <th>date</th>\n",
       "    </tr>\n",
       "  </thead>\n",
       "  <tbody>\n",
       "    <tr>\n",
       "      <td>2454</td>\n",
       "      <td>[{'post': 'The \"alt-right\" and Trump's new Chi...</td>\n",
       "      <td>0.100081</td>\n",
       "      <td>0.452800</td>\n",
       "      <td>2016-11-14 00:19:11</td>\n",
       "    </tr>\n",
       "    <tr>\n",
       "      <td>2453</td>\n",
       "      <td>[{'post': 'When one exercises \"religious freed...</td>\n",
       "      <td>0.000000</td>\n",
       "      <td>0.425000</td>\n",
       "      <td>2016-11-14 07:41:33</td>\n",
       "    </tr>\n",
       "    <tr>\n",
       "      <td>2452</td>\n",
       "      <td>[{'post': '\"The main problem: good and selfles...</td>\n",
       "      <td>-0.078526</td>\n",
       "      <td>0.655769</td>\n",
       "      <td>2016-11-14 12:56:33</td>\n",
       "    </tr>\n",
       "    <tr>\n",
       "      <td>2451</td>\n",
       "      <td>[{'post': '1) One thing I really miss about th...</td>\n",
       "      <td>0.175000</td>\n",
       "      <td>0.450000</td>\n",
       "      <td>2016-11-14 15:37:14</td>\n",
       "    </tr>\n",
       "    <tr>\n",
       "      <td>2450</td>\n",
       "      <td>[{'post': 'Why I'm hesitant to empathise with ...</td>\n",
       "      <td>-0.053611</td>\n",
       "      <td>0.317361</td>\n",
       "      <td>2016-11-14 17:20:11</td>\n",
       "    </tr>\n",
       "  </tbody>\n",
       "</table>\n",
       "</div>"
      ],
      "text/plain": [
       "                                                   data      mood      subj  \\\n",
       "2454  [{'post': 'The \"alt-right\" and Trump's new Chi...  0.100081  0.452800   \n",
       "2453  [{'post': 'When one exercises \"religious freed...  0.000000  0.425000   \n",
       "2452  [{'post': '\"The main problem: good and selfles... -0.078526  0.655769   \n",
       "2451  [{'post': '1) One thing I really miss about th...  0.175000  0.450000   \n",
       "2450  [{'post': 'Why I'm hesitant to empathise with ... -0.053611  0.317361   \n",
       "\n",
       "                     date  \n",
       "2454  2016-11-14 00:19:11  \n",
       "2453  2016-11-14 07:41:33  \n",
       "2452  2016-11-14 12:56:33  \n",
       "2451  2016-11-14 15:37:14  \n",
       "2450  2016-11-14 17:20:11  "
      ]
     },
     "execution_count": 9,
     "metadata": {},
     "output_type": "execute_result"
    }
   ],
   "source": [
    "# I rearrange the dataframe so that the least recent date is listed first. \n",
    "newfbposts.sort_values(by='date', ascending=True, inplace=True)\n",
    "\n",
    "newfbposts.head()\n"
   ]
  },
  {
   "cell_type": "code",
   "execution_count": 10,
   "metadata": {},
   "outputs": [],
   "source": [
    "newfbposts.reset_index(inplace=True)"
   ]
  },
  {
   "cell_type": "code",
   "execution_count": 11,
   "metadata": {},
   "outputs": [
    {
     "data": {
      "text/plain": [
       "Index(['index', 'data', 'mood', 'subj', 'date'], dtype='object')"
      ]
     },
     "execution_count": 11,
     "metadata": {},
     "output_type": "execute_result"
    }
   ],
   "source": [
    "newfbposts.columns"
   ]
  },
  {
   "cell_type": "code",
   "execution_count": 12,
   "metadata": {},
   "outputs": [
    {
     "data": {
      "text/html": [
       "<div>\n",
       "<style scoped>\n",
       "    .dataframe tbody tr th:only-of-type {\n",
       "        vertical-align: middle;\n",
       "    }\n",
       "\n",
       "    .dataframe tbody tr th {\n",
       "        vertical-align: top;\n",
       "    }\n",
       "\n",
       "    .dataframe thead th {\n",
       "        text-align: right;\n",
       "    }\n",
       "</style>\n",
       "<table border=\"1\" class=\"dataframe\">\n",
       "  <thead>\n",
       "    <tr style=\"text-align: right;\">\n",
       "      <th></th>\n",
       "      <th>index</th>\n",
       "      <th>data</th>\n",
       "      <th>mood</th>\n",
       "      <th>subj</th>\n",
       "      <th>date</th>\n",
       "    </tr>\n",
       "  </thead>\n",
       "  <tbody>\n",
       "    <tr>\n",
       "      <td>0</td>\n",
       "      <td>2454</td>\n",
       "      <td>[{'post': 'The \"alt-right\" and Trump's new Chi...</td>\n",
       "      <td>0.100081</td>\n",
       "      <td>0.452800</td>\n",
       "      <td>2016-11-14 00:19:11</td>\n",
       "    </tr>\n",
       "    <tr>\n",
       "      <td>1</td>\n",
       "      <td>2453</td>\n",
       "      <td>[{'post': 'When one exercises \"religious freed...</td>\n",
       "      <td>0.000000</td>\n",
       "      <td>0.425000</td>\n",
       "      <td>2016-11-14 07:41:33</td>\n",
       "    </tr>\n",
       "    <tr>\n",
       "      <td>2</td>\n",
       "      <td>2452</td>\n",
       "      <td>[{'post': '\"The main problem: good and selfles...</td>\n",
       "      <td>-0.078526</td>\n",
       "      <td>0.655769</td>\n",
       "      <td>2016-11-14 12:56:33</td>\n",
       "    </tr>\n",
       "    <tr>\n",
       "      <td>3</td>\n",
       "      <td>2451</td>\n",
       "      <td>[{'post': '1) One thing I really miss about th...</td>\n",
       "      <td>0.175000</td>\n",
       "      <td>0.450000</td>\n",
       "      <td>2016-11-14 15:37:14</td>\n",
       "    </tr>\n",
       "    <tr>\n",
       "      <td>4</td>\n",
       "      <td>2450</td>\n",
       "      <td>[{'post': 'Why I'm hesitant to empathise with ...</td>\n",
       "      <td>-0.053611</td>\n",
       "      <td>0.317361</td>\n",
       "      <td>2016-11-14 17:20:11</td>\n",
       "    </tr>\n",
       "  </tbody>\n",
       "</table>\n",
       "</div>"
      ],
      "text/plain": [
       "   index                                               data      mood  \\\n",
       "0   2454  [{'post': 'The \"alt-right\" and Trump's new Chi...  0.100081   \n",
       "1   2453  [{'post': 'When one exercises \"religious freed...  0.000000   \n",
       "2   2452  [{'post': '\"The main problem: good and selfles... -0.078526   \n",
       "3   2451  [{'post': '1) One thing I really miss about th...  0.175000   \n",
       "4   2450  [{'post': 'Why I'm hesitant to empathise with ... -0.053611   \n",
       "\n",
       "       subj                 date  \n",
       "0  0.452800  2016-11-14 00:19:11  \n",
       "1  0.425000  2016-11-14 07:41:33  \n",
       "2  0.655769  2016-11-14 12:56:33  \n",
       "3  0.450000  2016-11-14 15:37:14  \n",
       "4  0.317361  2016-11-14 17:20:11  "
      ]
     },
     "execution_count": 12,
     "metadata": {},
     "output_type": "execute_result"
    }
   ],
   "source": [
    "newfbposts.head()"
   ]
  },
  {
   "cell_type": "code",
   "execution_count": 13,
   "metadata": {},
   "outputs": [
    {
     "data": {
      "text/plain": [
       "index             int64\n",
       "data             object\n",
       "mood            float64\n",
       "subj            float64\n",
       "date     datetime64[ns]\n",
       "dtype: object"
      ]
     },
     "execution_count": 13,
     "metadata": {},
     "output_type": "execute_result"
    }
   ],
   "source": [
    "# i import the necessary libraries\n",
    "from datetime import timedelta\n",
    "from datetime import datetime\n",
    "\n",
    "#and turn the \"date\" object into a pandas datetime series. This will facilitate time series analysis. \n",
    "newfbposts['date'] = pd.to_datetime(newfbposts.date)\n",
    "newfbposts.dtypes"
   ]
  },
  {
   "cell_type": "markdown",
   "metadata": {},
   "source": [
    "### Create the dataframe whose data we will visualise\n",
    "\n",
    "I found that visulising every single data point created a visually confusing graph. \n",
    "So, I have taken the mean mood and subj scores of posts per day to approximate my mood or subjectivity scores for that day. "
   ]
  },
  {
   "cell_type": "code",
   "execution_count": 14,
   "metadata": {},
   "outputs": [
    {
     "data": {
      "text/html": [
       "<div>\n",
       "<style scoped>\n",
       "    .dataframe tbody tr th:only-of-type {\n",
       "        vertical-align: middle;\n",
       "    }\n",
       "\n",
       "    .dataframe tbody tr th {\n",
       "        vertical-align: top;\n",
       "    }\n",
       "\n",
       "    .dataframe thead th {\n",
       "        text-align: right;\n",
       "    }\n",
       "</style>\n",
       "<table border=\"1\" class=\"dataframe\">\n",
       "  <thead>\n",
       "    <tr style=\"text-align: right;\">\n",
       "      <th></th>\n",
       "      <th>index</th>\n",
       "      <th>mood</th>\n",
       "      <th>subj</th>\n",
       "    </tr>\n",
       "    <tr>\n",
       "      <th>date</th>\n",
       "      <th></th>\n",
       "      <th></th>\n",
       "      <th></th>\n",
       "    </tr>\n",
       "  </thead>\n",
       "  <tbody>\n",
       "    <tr>\n",
       "      <td>2016-11-14</td>\n",
       "      <td>2452.0</td>\n",
       "      <td>0.028589</td>\n",
       "      <td>0.460186</td>\n",
       "    </tr>\n",
       "    <tr>\n",
       "      <td>2016-11-15</td>\n",
       "      <td>2445.5</td>\n",
       "      <td>0.121402</td>\n",
       "      <td>0.311870</td>\n",
       "    </tr>\n",
       "    <tr>\n",
       "      <td>2016-11-16</td>\n",
       "      <td>2438.0</td>\n",
       "      <td>0.078078</td>\n",
       "      <td>0.365476</td>\n",
       "    </tr>\n",
       "    <tr>\n",
       "      <td>2016-11-17</td>\n",
       "      <td>2432.5</td>\n",
       "      <td>0.134600</td>\n",
       "      <td>0.630517</td>\n",
       "    </tr>\n",
       "    <tr>\n",
       "      <td>2016-11-18</td>\n",
       "      <td>2429.0</td>\n",
       "      <td>0.133333</td>\n",
       "      <td>0.436667</td>\n",
       "    </tr>\n",
       "  </tbody>\n",
       "</table>\n",
       "</div>"
      ],
      "text/plain": [
       "             index      mood      subj\n",
       "date                                  \n",
       "2016-11-14  2452.0  0.028589  0.460186\n",
       "2016-11-15  2445.5  0.121402  0.311870\n",
       "2016-11-16  2438.0  0.078078  0.365476\n",
       "2016-11-17  2432.5  0.134600  0.630517\n",
       "2016-11-18  2429.0  0.133333  0.436667"
      ]
     },
     "execution_count": 14,
     "metadata": {},
     "output_type": "execute_result"
    }
   ],
   "source": [
    "newfbposts.set_index('date', inplace=True)\n",
    "newfbposts2 = newfbposts.groupby(pd.Grouper(freq='d')).mean().dropna(how='all')\n",
    "newfbposts2.head()"
   ]
  },
  {
   "cell_type": "code",
   "execution_count": 18,
   "metadata": {},
   "outputs": [
    {
     "data": {
      "text/plain": [
       "Index(['index', 'data', 'mood', 'subj'], dtype='object')"
      ]
     },
     "execution_count": 18,
     "metadata": {},
     "output_type": "execute_result"
    }
   ],
   "source": [
    "newfbposts.columns"
   ]
  },
  {
   "cell_type": "code",
   "execution_count": 19,
   "metadata": {},
   "outputs": [
    {
     "data": {
      "text/plain": [
       "Index(['index', 'data', 'mood', 'subj'], dtype='object')"
      ]
     },
     "execution_count": 19,
     "metadata": {},
     "output_type": "execute_result"
    }
   ],
   "source": [
    "newfbposts2.reset_index(inplace=True)\n",
    "newfbposts.columns"
   ]
  },
  {
   "cell_type": "code",
   "execution_count": 20,
   "metadata": {},
   "outputs": [
    {
     "data": {
      "text/html": [
       "<div>\n",
       "<style scoped>\n",
       "    .dataframe tbody tr th:only-of-type {\n",
       "        vertical-align: middle;\n",
       "    }\n",
       "\n",
       "    .dataframe tbody tr th {\n",
       "        vertical-align: top;\n",
       "    }\n",
       "\n",
       "    .dataframe thead th {\n",
       "        text-align: right;\n",
       "    }\n",
       "</style>\n",
       "<table border=\"1\" class=\"dataframe\">\n",
       "  <thead>\n",
       "    <tr style=\"text-align: right;\">\n",
       "      <th></th>\n",
       "      <th>index</th>\n",
       "      <th>data</th>\n",
       "      <th>mood</th>\n",
       "      <th>subj</th>\n",
       "    </tr>\n",
       "    <tr>\n",
       "      <th>date</th>\n",
       "      <th></th>\n",
       "      <th></th>\n",
       "      <th></th>\n",
       "      <th></th>\n",
       "    </tr>\n",
       "  </thead>\n",
       "  <tbody>\n",
       "    <tr>\n",
       "      <td>2016-11-14 00:19:11</td>\n",
       "      <td>2454</td>\n",
       "      <td>[{'post': 'The \"alt-right\" and Trump's new Chi...</td>\n",
       "      <td>0.100081</td>\n",
       "      <td>0.452800</td>\n",
       "    </tr>\n",
       "    <tr>\n",
       "      <td>2016-11-14 07:41:33</td>\n",
       "      <td>2453</td>\n",
       "      <td>[{'post': 'When one exercises \"religious freed...</td>\n",
       "      <td>0.000000</td>\n",
       "      <td>0.425000</td>\n",
       "    </tr>\n",
       "    <tr>\n",
       "      <td>2016-11-14 12:56:33</td>\n",
       "      <td>2452</td>\n",
       "      <td>[{'post': '\"The main problem: good and selfles...</td>\n",
       "      <td>-0.078526</td>\n",
       "      <td>0.655769</td>\n",
       "    </tr>\n",
       "    <tr>\n",
       "      <td>2016-11-14 15:37:14</td>\n",
       "      <td>2451</td>\n",
       "      <td>[{'post': '1) One thing I really miss about th...</td>\n",
       "      <td>0.175000</td>\n",
       "      <td>0.450000</td>\n",
       "    </tr>\n",
       "    <tr>\n",
       "      <td>2016-11-14 17:20:11</td>\n",
       "      <td>2450</td>\n",
       "      <td>[{'post': 'Why I'm hesitant to empathise with ...</td>\n",
       "      <td>-0.053611</td>\n",
       "      <td>0.317361</td>\n",
       "    </tr>\n",
       "  </tbody>\n",
       "</table>\n",
       "</div>"
      ],
      "text/plain": [
       "                     index                                               data  \\\n",
       "date                                                                            \n",
       "2016-11-14 00:19:11   2454  [{'post': 'The \"alt-right\" and Trump's new Chi...   \n",
       "2016-11-14 07:41:33   2453  [{'post': 'When one exercises \"religious freed...   \n",
       "2016-11-14 12:56:33   2452  [{'post': '\"The main problem: good and selfles...   \n",
       "2016-11-14 15:37:14   2451  [{'post': '1) One thing I really miss about th...   \n",
       "2016-11-14 17:20:11   2450  [{'post': 'Why I'm hesitant to empathise with ...   \n",
       "\n",
       "                         mood      subj  \n",
       "date                                     \n",
       "2016-11-14 00:19:11  0.100081  0.452800  \n",
       "2016-11-14 07:41:33  0.000000  0.425000  \n",
       "2016-11-14 12:56:33 -0.078526  0.655769  \n",
       "2016-11-14 15:37:14  0.175000  0.450000  \n",
       "2016-11-14 17:20:11 -0.053611  0.317361  "
      ]
     },
     "execution_count": 20,
     "metadata": {},
     "output_type": "execute_result"
    }
   ],
   "source": [
    "newfbposts.head()"
   ]
  },
  {
   "cell_type": "markdown",
   "metadata": {},
   "source": [
    "### Visualising mood"
   ]
  },
  {
   "cell_type": "code",
   "execution_count": 21,
   "metadata": {},
   "outputs": [
    {
     "name": "stderr",
     "output_type": "stream",
     "text": [
      "/Users/vernieoliveiro/anaconda3/lib/python3.7/site-packages/pandas/plotting/_matplotlib/converter.py:103: FutureWarning: Using an implicitly registered datetime converter for a matplotlib plotting method. The converter was registered by pandas on import. Future versions of pandas will require you to explicitly register matplotlib converters.\n",
      "\n",
      "To register the converters:\n",
      "\t>>> from pandas.plotting import register_matplotlib_converters\n",
      "\t>>> register_matplotlib_converters()\n",
      "  warnings.warn(msg, FutureWarning)\n"
     ]
    },
    {
     "data": {
      "text/plain": [
       "[<matplotlib.lines.Line2D at 0x1a196a8a10>]"
      ]
     },
     "execution_count": 21,
     "metadata": {},
     "output_type": "execute_result"
    },
    {
     "data": {
      "image/png": "[encoded data removed]",
      "text/plain": [
       "<Figure size 1440x360 with 1 Axes>"
      ]
     },
     "metadata": {
      "needs_background": "light"
     },
     "output_type": "display_data"
    }
   ],
   "source": [
    "import numpy as np\n",
    "import matplotlib.pyplot as plt\n",
    "from matplotlib import dates\n",
    "\n",
    "\n",
    "#visualising mood\n",
    "\n",
    "X=newfbposts2[\"date\"]\n",
    "y=newfbposts2[\"mood\"]\n",
    "\n",
    "fig=plt.figure(figsize=(20,5))\n",
    "fig.add_axes([0,0,1,1])\n",
    "\n",
    "plt.plot(X, y)"
   ]
  },
  {
   "cell_type": "code",
   "execution_count": null,
   "metadata": {},
   "outputs": [],
   "source": [
    "# X=newfbposts2[\"date\"]\n",
    "# y=newfbposts2[\"subj\"]\n",
    "\n",
    "# fig=plt.figure(figsize=(20,5))\n",
    "# fig.add_axes([0,0,1,1])\n",
    "\n",
    "# plt.plot(X, y)\n"
   ]
  }
 ],
 "metadata": {
  "kernelspec": {
   "display_name": "Python 3",
   "language": "python",
   "name": "python3"
  },
  "language_info": {
   "codemirror_mode": {
    "name": "ipython",
    "version": 3
   },
   "file_extension": ".py",
   "mimetype": "text/x-python",
   "name": "python",
   "nbconvert_exporter": "python",
   "pygments_lexer": "ipython3",
   "version": "3.7.4"
  }
 },
 "nbformat": 4,
 "nbformat_minor": 2
}
